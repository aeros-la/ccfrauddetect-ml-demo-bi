{
 "cells": [
  {
   "cell_type": "code",
   "execution_count": null,
   "metadata": {},
   "outputs": [],
   "source": [
    "from google.cloud import pubsub_v1\n",
    "import time\n",
    "import json\n",
    "import json\n",
    "import pickle"
   ]
  },
  {
   "cell_type": "code",
   "execution_count": null,
   "metadata": {},
   "outputs": [],
   "source": [
    "project_id = \"aeros-ccfrauddetect-ml-demo\"\n",
    "topic_id = \"transaction\"\n",
    "\n",
    "publisher = pubsub_v1.PublisherClient()\n",
    "# The `topic_path` method creates a fully qualified identifier\n",
    "# in the form `projects/{project_id}/topics/{topic_id}`\n",
    "topic_path = publisher.topic_path(project_id, topic_id)"
   ]
  },
  {
   "cell_type": "code",
   "execution_count": null,
   "metadata": {},
   "outputs": [],
   "source": [
    "try:\n",
    "    with open('transactions.dat', 'rb') as t:\n",
    "        data = pickle.load(t)\n",
    "        print('data loaded')\n",
    "except:\n",
    "    print('cant´t load data')"
   ]
  },
  {
   "cell_type": "code",
   "execution_count": null,
   "metadata": {},
   "outputs": [],
   "source": [
    "for item in data:\n",
    "    print(\"sending transaction...\")\n",
    "    dataToSend = json.dumps(item)\n",
    "    dataToSend = dataToSend.encode('utf-8')\n",
    "    future = publisher.publish(topic_path, dataToSend)\n",
    "    print(future.result())\n",
    "\n",
    "    print(f\"Published messages to {topic_path}.\")\n",
    "    time.sleep(0.5)"
   ]
  }
 ],
 "metadata": {
  "language_info": {
   "name": "python"
  },
  "orig_nbformat": 4
 },
 "nbformat": 4,
 "nbformat_minor": 2
}
